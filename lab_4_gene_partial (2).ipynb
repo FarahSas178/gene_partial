{
 "cells": [
  {
   "cell_type": "markdown",
   "metadata": {},
   "source": [
    "# Lab:  Logistic Regression for Gene Expression Data\n",
    "\n",
    "In this lab, we use logistic regression to predict biological characteristics (\"phenotypes\") from gene expression data.  In addition to the concepts in [breast cancer demo](./breast_cancer.ipynb), you will learn to:\n",
    "* Handle missing data\n",
    "* Perform multi-class logistic classification\n",
    "* Create a confusion matrix\n",
    "* Use L1-regularization for improved estimation in the case of sparse weights (Grad students only)\n",
    "\n",
    "## Background\n",
    "\n",
    "Genes are the basic unit in the DNA and encode blueprints for proteins.  When proteins are synthesized from a gene, the gene is said to \"express\".  Micro-arrays are devices that measure the expression levels of large numbers of genes in parallel.  By finding correlations between expression levels and phenotypes, scientists can identify possible genetic markers for biological characteristics.\n",
    "\n",
    "The data in this lab comes from:\n",
    "\n",
    "https://archive.ics.uci.edu/ml/datasets/Mice+Protein+Expression\n",
    "\n",
    "In this data, mice were characterized by three properties:\n",
    "* Whether they had down's syndrome (trisomy) or not\n",
    "* Whether they were stimulated to learn or not\n",
    "* Whether they had a drug memantine or a saline control solution.\n",
    "\n",
    "With these three choices, there are 8 possible classes for each mouse.  For each mouse, the expression levels were measured across 77 genes.  We will see if the characteristics can be predicted from the gene expression levels.  This classification could reveal which genes are potentially involved in Down's syndrome and if drugs and learning have any noticeable effects.\n"
   ]
  },
  {
   "cell_type": "markdown",
   "metadata": {},
   "source": [
    "## Load the Data\n",
    "\n",
    "We begin by loading the standard modules."
   ]
  },
  {
   "cell_type": "code",
   "execution_count": 27,
   "metadata": {},
   "outputs": [],
   "source": [
    "import pandas as pd\n",
    "import numpy as np\n",
    "import matplotlib\n",
    "import matplotlib.pyplot as plt\n",
    "%matplotlib inline\n",
    "from sklearn import linear_model, preprocessing"
   ]
  },
  {
   "cell_type": "markdown",
   "metadata": {},
   "source": [
    "Use the `pd.read_excel` command to read the data from \n",
    "\n",
    "https://archive.ics.uci.edu/ml/machine-learning-databases/00342/Data_Cortex_Nuclear.xls\n",
    "\n",
    "into a dataframe `df`.  Use the `index_col` option to specify that column 0 is the index.  Use the `df.head()` to print the first few rows."
   ]
  },
  {
   "cell_type": "code",
   "execution_count": 28,
   "metadata": {},
   "outputs": [
    {
     "data": {
      "text/html": [
       "<div>\n",
       "<style scoped>\n",
       "    .dataframe tbody tr th:only-of-type {\n",
       "        vertical-align: middle;\n",
       "    }\n",
       "\n",
       "    .dataframe tbody tr th {\n",
       "        vertical-align: top;\n",
       "    }\n",
       "\n",
       "    .dataframe thead th {\n",
       "        text-align: right;\n",
       "    }\n",
       "</style>\n",
       "<table border=\"1\" class=\"dataframe\">\n",
       "  <thead>\n",
       "    <tr style=\"text-align: right;\">\n",
       "      <th></th>\n",
       "      <th>DYRK1A_N</th>\n",
       "      <th>ITSN1_N</th>\n",
       "      <th>BDNF_N</th>\n",
       "      <th>NR1_N</th>\n",
       "      <th>NR2A_N</th>\n",
       "      <th>pAKT_N</th>\n",
       "      <th>pBRAF_N</th>\n",
       "      <th>pCAMKII_N</th>\n",
       "      <th>pCREB_N</th>\n",
       "      <th>pELK_N</th>\n",
       "      <th>...</th>\n",
       "      <th>pCFOS_N</th>\n",
       "      <th>SYP_N</th>\n",
       "      <th>H3AcK18_N</th>\n",
       "      <th>EGR1_N</th>\n",
       "      <th>H3MeK4_N</th>\n",
       "      <th>CaNA_N</th>\n",
       "      <th>Genotype</th>\n",
       "      <th>Treatment</th>\n",
       "      <th>Behavior</th>\n",
       "      <th>class</th>\n",
       "    </tr>\n",
       "    <tr>\n",
       "      <th>MouseID</th>\n",
       "      <th></th>\n",
       "      <th></th>\n",
       "      <th></th>\n",
       "      <th></th>\n",
       "      <th></th>\n",
       "      <th></th>\n",
       "      <th></th>\n",
       "      <th></th>\n",
       "      <th></th>\n",
       "      <th></th>\n",
       "      <th></th>\n",
       "      <th></th>\n",
       "      <th></th>\n",
       "      <th></th>\n",
       "      <th></th>\n",
       "      <th></th>\n",
       "      <th></th>\n",
       "      <th></th>\n",
       "      <th></th>\n",
       "      <th></th>\n",
       "      <th></th>\n",
       "    </tr>\n",
       "  </thead>\n",
       "  <tbody>\n",
       "    <tr>\n",
       "      <th>309_1</th>\n",
       "      <td>0.503644</td>\n",
       "      <td>0.747193</td>\n",
       "      <td>0.430175</td>\n",
       "      <td>2.816329</td>\n",
       "      <td>5.990152</td>\n",
       "      <td>0.218830</td>\n",
       "      <td>0.177565</td>\n",
       "      <td>2.373744</td>\n",
       "      <td>0.232224</td>\n",
       "      <td>1.750936</td>\n",
       "      <td>...</td>\n",
       "      <td>0.108336</td>\n",
       "      <td>0.427099</td>\n",
       "      <td>0.114783</td>\n",
       "      <td>0.131790</td>\n",
       "      <td>0.128186</td>\n",
       "      <td>1.675652</td>\n",
       "      <td>Control</td>\n",
       "      <td>Memantine</td>\n",
       "      <td>C/S</td>\n",
       "      <td>c-CS-m</td>\n",
       "    </tr>\n",
       "    <tr>\n",
       "      <th>309_2</th>\n",
       "      <td>0.514617</td>\n",
       "      <td>0.689064</td>\n",
       "      <td>0.411770</td>\n",
       "      <td>2.789514</td>\n",
       "      <td>5.685038</td>\n",
       "      <td>0.211636</td>\n",
       "      <td>0.172817</td>\n",
       "      <td>2.292150</td>\n",
       "      <td>0.226972</td>\n",
       "      <td>1.596377</td>\n",
       "      <td>...</td>\n",
       "      <td>0.104315</td>\n",
       "      <td>0.441581</td>\n",
       "      <td>0.111974</td>\n",
       "      <td>0.135103</td>\n",
       "      <td>0.131119</td>\n",
       "      <td>1.743610</td>\n",
       "      <td>Control</td>\n",
       "      <td>Memantine</td>\n",
       "      <td>C/S</td>\n",
       "      <td>c-CS-m</td>\n",
       "    </tr>\n",
       "    <tr>\n",
       "      <th>309_3</th>\n",
       "      <td>0.509183</td>\n",
       "      <td>0.730247</td>\n",
       "      <td>0.418309</td>\n",
       "      <td>2.687201</td>\n",
       "      <td>5.622059</td>\n",
       "      <td>0.209011</td>\n",
       "      <td>0.175722</td>\n",
       "      <td>2.283337</td>\n",
       "      <td>0.230247</td>\n",
       "      <td>1.561316</td>\n",
       "      <td>...</td>\n",
       "      <td>0.106219</td>\n",
       "      <td>0.435777</td>\n",
       "      <td>0.111883</td>\n",
       "      <td>0.133362</td>\n",
       "      <td>0.127431</td>\n",
       "      <td>1.926427</td>\n",
       "      <td>Control</td>\n",
       "      <td>Memantine</td>\n",
       "      <td>C/S</td>\n",
       "      <td>c-CS-m</td>\n",
       "    </tr>\n",
       "    <tr>\n",
       "      <th>309_4</th>\n",
       "      <td>0.442107</td>\n",
       "      <td>0.617076</td>\n",
       "      <td>0.358626</td>\n",
       "      <td>2.466947</td>\n",
       "      <td>4.979503</td>\n",
       "      <td>0.222886</td>\n",
       "      <td>0.176463</td>\n",
       "      <td>2.152301</td>\n",
       "      <td>0.207004</td>\n",
       "      <td>1.595086</td>\n",
       "      <td>...</td>\n",
       "      <td>0.111262</td>\n",
       "      <td>0.391691</td>\n",
       "      <td>0.130405</td>\n",
       "      <td>0.147444</td>\n",
       "      <td>0.146901</td>\n",
       "      <td>1.700563</td>\n",
       "      <td>Control</td>\n",
       "      <td>Memantine</td>\n",
       "      <td>C/S</td>\n",
       "      <td>c-CS-m</td>\n",
       "    </tr>\n",
       "    <tr>\n",
       "      <th>309_5</th>\n",
       "      <td>0.434940</td>\n",
       "      <td>0.617430</td>\n",
       "      <td>0.358802</td>\n",
       "      <td>2.365785</td>\n",
       "      <td>4.718679</td>\n",
       "      <td>0.213106</td>\n",
       "      <td>0.173627</td>\n",
       "      <td>2.134014</td>\n",
       "      <td>0.192158</td>\n",
       "      <td>1.504230</td>\n",
       "      <td>...</td>\n",
       "      <td>0.110694</td>\n",
       "      <td>0.434154</td>\n",
       "      <td>0.118481</td>\n",
       "      <td>0.140314</td>\n",
       "      <td>0.148380</td>\n",
       "      <td>1.839730</td>\n",
       "      <td>Control</td>\n",
       "      <td>Memantine</td>\n",
       "      <td>C/S</td>\n",
       "      <td>c-CS-m</td>\n",
       "    </tr>\n",
       "  </tbody>\n",
       "</table>\n",
       "<p>5 rows × 81 columns</p>\n",
       "</div>"
      ],
      "text/plain": [
       "         DYRK1A_N   ITSN1_N    BDNF_N     NR1_N    NR2A_N    pAKT_N   pBRAF_N  \\\n",
       "MouseID                                                                         \n",
       "309_1    0.503644  0.747193  0.430175  2.816329  5.990152  0.218830  0.177565   \n",
       "309_2    0.514617  0.689064  0.411770  2.789514  5.685038  0.211636  0.172817   \n",
       "309_3    0.509183  0.730247  0.418309  2.687201  5.622059  0.209011  0.175722   \n",
       "309_4    0.442107  0.617076  0.358626  2.466947  4.979503  0.222886  0.176463   \n",
       "309_5    0.434940  0.617430  0.358802  2.365785  4.718679  0.213106  0.173627   \n",
       "\n",
       "         pCAMKII_N   pCREB_N    pELK_N  ...   pCFOS_N     SYP_N  H3AcK18_N  \\\n",
       "MouseID                                 ...                                  \n",
       "309_1     2.373744  0.232224  1.750936  ...  0.108336  0.427099   0.114783   \n",
       "309_2     2.292150  0.226972  1.596377  ...  0.104315  0.441581   0.111974   \n",
       "309_3     2.283337  0.230247  1.561316  ...  0.106219  0.435777   0.111883   \n",
       "309_4     2.152301  0.207004  1.595086  ...  0.111262  0.391691   0.130405   \n",
       "309_5     2.134014  0.192158  1.504230  ...  0.110694  0.434154   0.118481   \n",
       "\n",
       "           EGR1_N  H3MeK4_N    CaNA_N  Genotype  Treatment  Behavior   class  \n",
       "MouseID                                                                       \n",
       "309_1    0.131790  0.128186  1.675652   Control  Memantine       C/S  c-CS-m  \n",
       "309_2    0.135103  0.131119  1.743610   Control  Memantine       C/S  c-CS-m  \n",
       "309_3    0.133362  0.127431  1.926427   Control  Memantine       C/S  c-CS-m  \n",
       "309_4    0.147444  0.146901  1.700563   Control  Memantine       C/S  c-CS-m  \n",
       "309_5    0.140314  0.148380  1.839730   Control  Memantine       C/S  c-CS-m  \n",
       "\n",
       "[5 rows x 81 columns]"
      ]
     },
     "execution_count": 28,
     "metadata": {},
     "output_type": "execute_result"
    }
   ],
   "source": [
    "# TODO\n",
    "df = pd.read_excel('https://archive.ics.uci.edu/ml/machine-learning-databases/00342/Data_Cortex_Nuclear.xls',index_col=0)\n",
    "df.head()\n",
    "#   df = pd.read_excel(...)"
   ]
  },
  {
   "cell_type": "markdown",
   "metadata": {},
   "source": [
    "This data has missing values.  The site:\n",
    "\n",
    "http://pandas.pydata.org/pandas-docs/stable/missing_data.html\n",
    "\n",
    "has an excellent summary of methods to deal with missing values.  Following the techniques there, create a new data frame `df1` where the missing values in each column are filled with the mean values from the non-missing values."
   ]
  },
  {
   "cell_type": "code",
   "execution_count": 29,
   "metadata": {},
   "outputs": [
    {
     "data": {
      "text/html": [
       "<div>\n",
       "<style scoped>\n",
       "    .dataframe tbody tr th:only-of-type {\n",
       "        vertical-align: middle;\n",
       "    }\n",
       "\n",
       "    .dataframe tbody tr th {\n",
       "        vertical-align: top;\n",
       "    }\n",
       "\n",
       "    .dataframe thead th {\n",
       "        text-align: right;\n",
       "    }\n",
       "</style>\n",
       "<table border=\"1\" class=\"dataframe\">\n",
       "  <thead>\n",
       "    <tr style=\"text-align: right;\">\n",
       "      <th></th>\n",
       "      <th>DYRK1A_N</th>\n",
       "      <th>ITSN1_N</th>\n",
       "      <th>BDNF_N</th>\n",
       "      <th>NR1_N</th>\n",
       "      <th>NR2A_N</th>\n",
       "      <th>pAKT_N</th>\n",
       "      <th>pBRAF_N</th>\n",
       "      <th>pCAMKII_N</th>\n",
       "      <th>pCREB_N</th>\n",
       "      <th>pELK_N</th>\n",
       "      <th>...</th>\n",
       "      <th>pCFOS_N</th>\n",
       "      <th>SYP_N</th>\n",
       "      <th>H3AcK18_N</th>\n",
       "      <th>EGR1_N</th>\n",
       "      <th>H3MeK4_N</th>\n",
       "      <th>CaNA_N</th>\n",
       "      <th>Genotype</th>\n",
       "      <th>Treatment</th>\n",
       "      <th>Behavior</th>\n",
       "      <th>class</th>\n",
       "    </tr>\n",
       "    <tr>\n",
       "      <th>MouseID</th>\n",
       "      <th></th>\n",
       "      <th></th>\n",
       "      <th></th>\n",
       "      <th></th>\n",
       "      <th></th>\n",
       "      <th></th>\n",
       "      <th></th>\n",
       "      <th></th>\n",
       "      <th></th>\n",
       "      <th></th>\n",
       "      <th></th>\n",
       "      <th></th>\n",
       "      <th></th>\n",
       "      <th></th>\n",
       "      <th></th>\n",
       "      <th></th>\n",
       "      <th></th>\n",
       "      <th></th>\n",
       "      <th></th>\n",
       "      <th></th>\n",
       "      <th></th>\n",
       "    </tr>\n",
       "  </thead>\n",
       "  <tbody>\n",
       "    <tr>\n",
       "      <th>309_1</th>\n",
       "      <td>0.503644</td>\n",
       "      <td>0.747193</td>\n",
       "      <td>0.430175</td>\n",
       "      <td>2.816329</td>\n",
       "      <td>5.990152</td>\n",
       "      <td>0.218830</td>\n",
       "      <td>0.177565</td>\n",
       "      <td>2.373744</td>\n",
       "      <td>0.232224</td>\n",
       "      <td>1.750936</td>\n",
       "      <td>...</td>\n",
       "      <td>0.108336</td>\n",
       "      <td>0.427099</td>\n",
       "      <td>0.114783</td>\n",
       "      <td>0.131790</td>\n",
       "      <td>0.128186</td>\n",
       "      <td>1.675652</td>\n",
       "      <td>Control</td>\n",
       "      <td>Memantine</td>\n",
       "      <td>C/S</td>\n",
       "      <td>c-CS-m</td>\n",
       "    </tr>\n",
       "    <tr>\n",
       "      <th>309_2</th>\n",
       "      <td>0.514617</td>\n",
       "      <td>0.689064</td>\n",
       "      <td>0.411770</td>\n",
       "      <td>2.789514</td>\n",
       "      <td>5.685038</td>\n",
       "      <td>0.211636</td>\n",
       "      <td>0.172817</td>\n",
       "      <td>2.292150</td>\n",
       "      <td>0.226972</td>\n",
       "      <td>1.596377</td>\n",
       "      <td>...</td>\n",
       "      <td>0.104315</td>\n",
       "      <td>0.441581</td>\n",
       "      <td>0.111974</td>\n",
       "      <td>0.135103</td>\n",
       "      <td>0.131119</td>\n",
       "      <td>1.743610</td>\n",
       "      <td>Control</td>\n",
       "      <td>Memantine</td>\n",
       "      <td>C/S</td>\n",
       "      <td>c-CS-m</td>\n",
       "    </tr>\n",
       "    <tr>\n",
       "      <th>309_3</th>\n",
       "      <td>0.509183</td>\n",
       "      <td>0.730247</td>\n",
       "      <td>0.418309</td>\n",
       "      <td>2.687201</td>\n",
       "      <td>5.622059</td>\n",
       "      <td>0.209011</td>\n",
       "      <td>0.175722</td>\n",
       "      <td>2.283337</td>\n",
       "      <td>0.230247</td>\n",
       "      <td>1.561316</td>\n",
       "      <td>...</td>\n",
       "      <td>0.106219</td>\n",
       "      <td>0.435777</td>\n",
       "      <td>0.111883</td>\n",
       "      <td>0.133362</td>\n",
       "      <td>0.127431</td>\n",
       "      <td>1.926427</td>\n",
       "      <td>Control</td>\n",
       "      <td>Memantine</td>\n",
       "      <td>C/S</td>\n",
       "      <td>c-CS-m</td>\n",
       "    </tr>\n",
       "    <tr>\n",
       "      <th>309_4</th>\n",
       "      <td>0.442107</td>\n",
       "      <td>0.617076</td>\n",
       "      <td>0.358626</td>\n",
       "      <td>2.466947</td>\n",
       "      <td>4.979503</td>\n",
       "      <td>0.222886</td>\n",
       "      <td>0.176463</td>\n",
       "      <td>2.152301</td>\n",
       "      <td>0.207004</td>\n",
       "      <td>1.595086</td>\n",
       "      <td>...</td>\n",
       "      <td>0.111262</td>\n",
       "      <td>0.391691</td>\n",
       "      <td>0.130405</td>\n",
       "      <td>0.147444</td>\n",
       "      <td>0.146901</td>\n",
       "      <td>1.700563</td>\n",
       "      <td>Control</td>\n",
       "      <td>Memantine</td>\n",
       "      <td>C/S</td>\n",
       "      <td>c-CS-m</td>\n",
       "    </tr>\n",
       "    <tr>\n",
       "      <th>309_5</th>\n",
       "      <td>0.434940</td>\n",
       "      <td>0.617430</td>\n",
       "      <td>0.358802</td>\n",
       "      <td>2.365785</td>\n",
       "      <td>4.718679</td>\n",
       "      <td>0.213106</td>\n",
       "      <td>0.173627</td>\n",
       "      <td>2.134014</td>\n",
       "      <td>0.192158</td>\n",
       "      <td>1.504230</td>\n",
       "      <td>...</td>\n",
       "      <td>0.110694</td>\n",
       "      <td>0.434154</td>\n",
       "      <td>0.118481</td>\n",
       "      <td>0.140314</td>\n",
       "      <td>0.148380</td>\n",
       "      <td>1.839730</td>\n",
       "      <td>Control</td>\n",
       "      <td>Memantine</td>\n",
       "      <td>C/S</td>\n",
       "      <td>c-CS-m</td>\n",
       "    </tr>\n",
       "    <tr>\n",
       "      <th>...</th>\n",
       "      <td>...</td>\n",
       "      <td>...</td>\n",
       "      <td>...</td>\n",
       "      <td>...</td>\n",
       "      <td>...</td>\n",
       "      <td>...</td>\n",
       "      <td>...</td>\n",
       "      <td>...</td>\n",
       "      <td>...</td>\n",
       "      <td>...</td>\n",
       "      <td>...</td>\n",
       "      <td>...</td>\n",
       "      <td>...</td>\n",
       "      <td>...</td>\n",
       "      <td>...</td>\n",
       "      <td>...</td>\n",
       "      <td>...</td>\n",
       "      <td>...</td>\n",
       "      <td>...</td>\n",
       "      <td>...</td>\n",
       "      <td>...</td>\n",
       "    </tr>\n",
       "    <tr>\n",
       "      <th>J3295_11</th>\n",
       "      <td>0.254860</td>\n",
       "      <td>0.463591</td>\n",
       "      <td>0.254860</td>\n",
       "      <td>2.092082</td>\n",
       "      <td>2.600035</td>\n",
       "      <td>0.211736</td>\n",
       "      <td>0.171262</td>\n",
       "      <td>2.483740</td>\n",
       "      <td>0.207317</td>\n",
       "      <td>1.057971</td>\n",
       "      <td>...</td>\n",
       "      <td>0.183324</td>\n",
       "      <td>0.374088</td>\n",
       "      <td>0.318782</td>\n",
       "      <td>0.204660</td>\n",
       "      <td>0.328327</td>\n",
       "      <td>1.364823</td>\n",
       "      <td>Ts65Dn</td>\n",
       "      <td>Saline</td>\n",
       "      <td>S/C</td>\n",
       "      <td>t-SC-s</td>\n",
       "    </tr>\n",
       "    <tr>\n",
       "      <th>J3295_12</th>\n",
       "      <td>0.272198</td>\n",
       "      <td>0.474163</td>\n",
       "      <td>0.251638</td>\n",
       "      <td>2.161390</td>\n",
       "      <td>2.801492</td>\n",
       "      <td>0.251274</td>\n",
       "      <td>0.182496</td>\n",
       "      <td>2.512737</td>\n",
       "      <td>0.216339</td>\n",
       "      <td>1.081150</td>\n",
       "      <td>...</td>\n",
       "      <td>0.175674</td>\n",
       "      <td>0.375259</td>\n",
       "      <td>0.325639</td>\n",
       "      <td>0.200415</td>\n",
       "      <td>0.293435</td>\n",
       "      <td>1.364478</td>\n",
       "      <td>Ts65Dn</td>\n",
       "      <td>Saline</td>\n",
       "      <td>S/C</td>\n",
       "      <td>t-SC-s</td>\n",
       "    </tr>\n",
       "    <tr>\n",
       "      <th>J3295_13</th>\n",
       "      <td>0.228700</td>\n",
       "      <td>0.395179</td>\n",
       "      <td>0.234118</td>\n",
       "      <td>1.733184</td>\n",
       "      <td>2.220852</td>\n",
       "      <td>0.220665</td>\n",
       "      <td>0.161435</td>\n",
       "      <td>1.989723</td>\n",
       "      <td>0.185164</td>\n",
       "      <td>0.884342</td>\n",
       "      <td>...</td>\n",
       "      <td>0.158296</td>\n",
       "      <td>0.422121</td>\n",
       "      <td>0.321306</td>\n",
       "      <td>0.229193</td>\n",
       "      <td>0.355213</td>\n",
       "      <td>1.430825</td>\n",
       "      <td>Ts65Dn</td>\n",
       "      <td>Saline</td>\n",
       "      <td>S/C</td>\n",
       "      <td>t-SC-s</td>\n",
       "    </tr>\n",
       "    <tr>\n",
       "      <th>J3295_14</th>\n",
       "      <td>0.221242</td>\n",
       "      <td>0.412894</td>\n",
       "      <td>0.243974</td>\n",
       "      <td>1.876347</td>\n",
       "      <td>2.384088</td>\n",
       "      <td>0.208897</td>\n",
       "      <td>0.173623</td>\n",
       "      <td>2.086028</td>\n",
       "      <td>0.192044</td>\n",
       "      <td>0.922595</td>\n",
       "      <td>...</td>\n",
       "      <td>0.196296</td>\n",
       "      <td>0.397676</td>\n",
       "      <td>0.335936</td>\n",
       "      <td>0.251317</td>\n",
       "      <td>0.365353</td>\n",
       "      <td>1.404031</td>\n",
       "      <td>Ts65Dn</td>\n",
       "      <td>Saline</td>\n",
       "      <td>S/C</td>\n",
       "      <td>t-SC-s</td>\n",
       "    </tr>\n",
       "    <tr>\n",
       "      <th>J3295_15</th>\n",
       "      <td>0.302626</td>\n",
       "      <td>0.461059</td>\n",
       "      <td>0.256564</td>\n",
       "      <td>2.092790</td>\n",
       "      <td>2.594348</td>\n",
       "      <td>0.251001</td>\n",
       "      <td>0.191811</td>\n",
       "      <td>2.361816</td>\n",
       "      <td>0.223632</td>\n",
       "      <td>1.064085</td>\n",
       "      <td>...</td>\n",
       "      <td>0.187556</td>\n",
       "      <td>0.420347</td>\n",
       "      <td>0.335062</td>\n",
       "      <td>0.252995</td>\n",
       "      <td>0.365278</td>\n",
       "      <td>1.370999</td>\n",
       "      <td>Ts65Dn</td>\n",
       "      <td>Saline</td>\n",
       "      <td>S/C</td>\n",
       "      <td>t-SC-s</td>\n",
       "    </tr>\n",
       "  </tbody>\n",
       "</table>\n",
       "<p>1080 rows × 81 columns</p>\n",
       "</div>"
      ],
      "text/plain": [
       "          DYRK1A_N   ITSN1_N    BDNF_N     NR1_N    NR2A_N    pAKT_N  \\\n",
       "MouseID                                                                \n",
       "309_1     0.503644  0.747193  0.430175  2.816329  5.990152  0.218830   \n",
       "309_2     0.514617  0.689064  0.411770  2.789514  5.685038  0.211636   \n",
       "309_3     0.509183  0.730247  0.418309  2.687201  5.622059  0.209011   \n",
       "309_4     0.442107  0.617076  0.358626  2.466947  4.979503  0.222886   \n",
       "309_5     0.434940  0.617430  0.358802  2.365785  4.718679  0.213106   \n",
       "...            ...       ...       ...       ...       ...       ...   \n",
       "J3295_11  0.254860  0.463591  0.254860  2.092082  2.600035  0.211736   \n",
       "J3295_12  0.272198  0.474163  0.251638  2.161390  2.801492  0.251274   \n",
       "J3295_13  0.228700  0.395179  0.234118  1.733184  2.220852  0.220665   \n",
       "J3295_14  0.221242  0.412894  0.243974  1.876347  2.384088  0.208897   \n",
       "J3295_15  0.302626  0.461059  0.256564  2.092790  2.594348  0.251001   \n",
       "\n",
       "           pBRAF_N  pCAMKII_N   pCREB_N    pELK_N  ...   pCFOS_N     SYP_N  \\\n",
       "MouseID                                            ...                       \n",
       "309_1     0.177565   2.373744  0.232224  1.750936  ...  0.108336  0.427099   \n",
       "309_2     0.172817   2.292150  0.226972  1.596377  ...  0.104315  0.441581   \n",
       "309_3     0.175722   2.283337  0.230247  1.561316  ...  0.106219  0.435777   \n",
       "309_4     0.176463   2.152301  0.207004  1.595086  ...  0.111262  0.391691   \n",
       "309_5     0.173627   2.134014  0.192158  1.504230  ...  0.110694  0.434154   \n",
       "...            ...        ...       ...       ...  ...       ...       ...   \n",
       "J3295_11  0.171262   2.483740  0.207317  1.057971  ...  0.183324  0.374088   \n",
       "J3295_12  0.182496   2.512737  0.216339  1.081150  ...  0.175674  0.375259   \n",
       "J3295_13  0.161435   1.989723  0.185164  0.884342  ...  0.158296  0.422121   \n",
       "J3295_14  0.173623   2.086028  0.192044  0.922595  ...  0.196296  0.397676   \n",
       "J3295_15  0.191811   2.361816  0.223632  1.064085  ...  0.187556  0.420347   \n",
       "\n",
       "          H3AcK18_N    EGR1_N  H3MeK4_N    CaNA_N  Genotype  Treatment  \\\n",
       "MouseID                                                                  \n",
       "309_1      0.114783  0.131790  0.128186  1.675652   Control  Memantine   \n",
       "309_2      0.111974  0.135103  0.131119  1.743610   Control  Memantine   \n",
       "309_3      0.111883  0.133362  0.127431  1.926427   Control  Memantine   \n",
       "309_4      0.130405  0.147444  0.146901  1.700563   Control  Memantine   \n",
       "309_5      0.118481  0.140314  0.148380  1.839730   Control  Memantine   \n",
       "...             ...       ...       ...       ...       ...        ...   \n",
       "J3295_11   0.318782  0.204660  0.328327  1.364823    Ts65Dn     Saline   \n",
       "J3295_12   0.325639  0.200415  0.293435  1.364478    Ts65Dn     Saline   \n",
       "J3295_13   0.321306  0.229193  0.355213  1.430825    Ts65Dn     Saline   \n",
       "J3295_14   0.335936  0.251317  0.365353  1.404031    Ts65Dn     Saline   \n",
       "J3295_15   0.335062  0.252995  0.365278  1.370999    Ts65Dn     Saline   \n",
       "\n",
       "          Behavior   class  \n",
       "MouseID                     \n",
       "309_1          C/S  c-CS-m  \n",
       "309_2          C/S  c-CS-m  \n",
       "309_3          C/S  c-CS-m  \n",
       "309_4          C/S  c-CS-m  \n",
       "309_5          C/S  c-CS-m  \n",
       "...            ...     ...  \n",
       "J3295_11       S/C  t-SC-s  \n",
       "J3295_12       S/C  t-SC-s  \n",
       "J3295_13       S/C  t-SC-s  \n",
       "J3295_14       S/C  t-SC-s  \n",
       "J3295_15       S/C  t-SC-s  \n",
       "\n",
       "[1080 rows x 81 columns]"
      ]
     },
     "execution_count": 29,
     "metadata": {},
     "output_type": "execute_result"
    }
   ],
   "source": [
    "# TODO\n",
    "#  df1 = ...\n",
    "df1=df.fillna(df.mean())\n",
    "df1"
   ]
  },
  {
   "cell_type": "markdown",
   "metadata": {},
   "source": [
    "## Binary Classification for Down's Syndrome\n",
    "\n",
    "We will first predict the binary class label in `df1['Genotype']` which indicates if the mouse has Down's syndrome or not.  Get the string values in `df1['Genotype'].values` and convert this to a numeric vector `y` with 0 or 1.  You may wish to use the `np.unique` command with the `return_inverse=True` option."
   ]
  },
  {
   "cell_type": "code",
   "execution_count": 30,
   "metadata": {},
   "outputs": [
    {
     "data": {
      "text/plain": [
       "array([0, 0, 0, ..., 1, 1, 1], dtype=int64)"
      ]
     },
     "execution_count": 30,
     "metadata": {},
     "output_type": "execute_result"
    }
   ],
   "source": [
    "# TODO\n",
    "yvalue = df1['Genotype'].values\n",
    "valu,y = np.unique(yvalue, return_inverse=True)\n",
    "y\n",
    "#   y = ..."
   ]
  },
  {
   "cell_type": "markdown",
   "metadata": {},
   "source": [
    "As predictors, get all but the last four columns of the dataframes.  Store the data matrix into `X` and the names of the columns in `xnames`."
   ]
  },
  {
   "cell_type": "code",
   "execution_count": 31,
   "metadata": {},
   "outputs": [
    {
     "data": {
      "text/plain": [
       "array([[ 0.31271112,  0.5179336 ,  2.2536689 , ..., -1.41662394,\n",
       "        -1.60789061,  1.06590091],\n",
       "       [ 0.35679793,  0.28650133,  1.8802795 , ..., -1.32521803,\n",
       "        -1.54684392,  1.28029118],\n",
       "       [ 0.33496588,  0.45046461,  2.01292763, ..., -1.37325709,\n",
       "        -1.62359464,  1.85703831],\n",
       "       ...,\n",
       "       [-0.79192771, -0.88354273, -1.72382963, ...,  1.27078193,\n",
       "         3.11724261,  0.29352469],\n",
       "       [-0.82188815, -0.8130138 , -1.52387571, ...,  1.88117889,\n",
       "         3.32828966,  0.2089962 ],\n",
       "       [-0.49491588, -0.62125474, -1.26845332, ...,  1.92748438,\n",
       "         3.32672533,  0.10478825]])"
      ]
     },
     "execution_count": 31,
     "metadata": {},
     "output_type": "execute_result"
    }
   ],
   "source": [
    "# TODO\n",
    "\n",
    "\n",
    "#   xnames = ...\n",
    "xnames = df1.columns[:-4]\n",
    "X = np.array(df1[xnames].values)\n",
    "\n",
    "#   X = ...\n",
    "Xs= preprocessing.scale(X)\n",
    "Xs"
   ]
  },
  {
   "cell_type": "markdown",
   "metadata": {},
   "source": [
    "Split the data into training and test with 30% allocated for test.  You can use the train"
   ]
  },
  {
   "cell_type": "code",
   "execution_count": 32,
   "metadata": {},
   "outputs": [
    {
     "data": {
      "text/plain": [
       "array([[-1.06049490e-01, -4.80372847e-01,  1.01021150e+00, ...,\n",
       "        -7.65791965e-16,  5.77678123e-16,  4.42088043e-01],\n",
       "       [-6.20737026e-01, -6.96861509e-01,  1.54462372e-02, ...,\n",
       "        -7.65791965e-16,  3.96240187e+00, -1.76162793e+00],\n",
       "       [-4.22422563e-01, -4.46626235e-01, -4.23196734e-01, ...,\n",
       "        -7.65791965e-16,  5.77678123e-16, -5.70440820e-01],\n",
       "       ...,\n",
       "       [-6.09992757e-01, -7.25427134e-01, -2.75922436e-02, ...,\n",
       "        -7.65791965e-16,  5.77678123e-16, -8.72538043e-01],\n",
       "       [-6.13555773e-01, -5.79019856e-01, -1.08458362e+00, ...,\n",
       "         1.11767834e+00,  7.53623026e-01, -7.69839161e-01],\n",
       "       [-2.44824718e-01, -5.37477834e-01, -1.32865138e-01, ...,\n",
       "         1.48282487e+00,  1.80008372e-01,  2.81248435e-01]])"
      ]
     },
     "execution_count": 32,
     "metadata": {},
     "output_type": "execute_result"
    }
   ],
   "source": [
    "from sklearn.model_selection import train_test_split\n",
    "Xtr,Xts,ytr,yts=train_test_split(Xs,y,test_size=0.3,random_state=1)\n",
    "\n",
    "Xts\n",
    "\n",
    "# TODO:\n",
    "#   Xtr, Xts, ytr, yts = ..."
   ]
  },
  {
   "cell_type": "markdown",
   "metadata": {},
   "source": [
    "Scale the data with the `StandardScaler`.  Store the scaled values in `Xtr1` and `Xts1`. "
   ]
  },
  {
   "cell_type": "code",
   "execution_count": 33,
   "metadata": {},
   "outputs": [
    {
     "data": {
      "text/plain": [
       "array([[-0.08882245, -0.43259214,  1.07055475, ..., -0.04851572,\n",
       "        -0.06118622,  0.41411079],\n",
       "       [-0.55458685, -0.64739802,  0.06487286, ..., -0.04851572,\n",
       "         3.71092846, -1.71585461],\n",
       "       [-0.37512298, -0.39910784, -0.37858381, ..., -0.04851572,\n",
       "        -0.06118622, -0.56453232],\n",
       "       ...,\n",
       "       [-0.54486386, -0.6757416 ,  0.02136207, ..., -0.04851572,\n",
       "        -0.06118622, -0.85651941],\n",
       "       [-0.5480882 , -0.53047236, -1.04722881, ...,  0.99503529,\n",
       "         0.65624542, -0.7572575 ],\n",
       "       [-0.21440653, -0.48925324, -0.08506609, ...,  1.33596436,\n",
       "         0.11017758,  0.25865391]])"
      ]
     },
     "execution_count": 33,
     "metadata": {},
     "output_type": "execute_result"
    }
   ],
   "source": [
    "from sklearn.preprocessing import StandardScaler\n",
    "\n",
    "# TODO\n",
    "#  Xtr1 = ...\n",
    " #X_scaled.std\n",
    "Xtr1=preprocessing.scale(Xtr) \n",
    "Xtr1.mean(axis=0)\n",
    "Xtr1.std(axis=0)\n",
    "Xtr1\n",
    "#  Xts1 = ...\n",
    "Xts1=preprocessing.scale(Xts)\n",
    "Xts1.mean(axis=0)\n",
    "Xts1.std(axis=0)\n",
    "Xts1\n"
   ]
  },
  {
   "cell_type": "markdown",
   "metadata": {},
   "source": [
    "Create a `LogisticRegression` object `logreg` and `fit` on the scaled training data.  Set the regularization level to `C=1e5` and use the optimizer `solver=liblinear`. "
   ]
  },
  {
   "cell_type": "code",
   "execution_count": 34,
   "metadata": {},
   "outputs": [
    {
     "data": {
      "text/plain": [
       "LogisticRegression(C=100000.0, class_weight=None, dual=False,\n",
       "                   fit_intercept=True, intercept_scaling=1, l1_ratio=None,\n",
       "                   max_iter=100, multi_class='auto', n_jobs=None, penalty='l2',\n",
       "                   random_state=None, solver='liblinear', tol=0.0001, verbose=0,\n",
       "                   warm_start=False)"
      ]
     },
     "execution_count": 34,
     "metadata": {},
     "output_type": "execute_result"
    }
   ],
   "source": [
    "# TODO\n",
    "logreg = linear_model.LogisticRegression(C=1e5,solver='liblinear')\n",
    "logreg.fit(Xtr1,ytr)\n",
    "#   logreg = ..."
   ]
  },
  {
   "cell_type": "markdown",
   "metadata": {},
   "source": [
    "Measure the accuracy of the classifer on test data.  You should get around 94%.  "
   ]
  },
  {
   "cell_type": "code",
   "execution_count": 35,
   "metadata": {},
   "outputs": [
    {
     "name": "stdout",
     "output_type": "stream",
     "text": [
      "Accuracy on the training data is 0.944444\n"
     ]
    }
   ],
   "source": [
    "# TODO\n",
    "#   yhat = ...\n",
    "yhat = logreg.predict(Xts1)\n",
    "acc = np.mean(yhat == yts)\n",
    "print('Accuracy on the training data is {0:f}'.format(acc))\n"
   ]
  },
  {
   "cell_type": "markdown",
   "metadata": {},
   "source": [
    "## Interpreting the weight vector"
   ]
  },
  {
   "cell_type": "markdown",
   "metadata": {},
   "source": [
    "Create a stem plot of the coefficients, `W` in the logistic regression model.  Jse the `plt.stem()` function with the `use_line_collection=True` option.  You can get the coefficients from `logreg.coef_`, but you will need to reshape this to a 1D array.  "
   ]
  },
  {
   "cell_type": "code",
   "execution_count": 36,
   "metadata": {},
   "outputs": [
    {
     "data": {
      "text/plain": [
       "<StemContainer object of 3 artists>"
      ]
     },
     "execution_count": 36,
     "metadata": {},
     "output_type": "execute_result"
    },
    {
     "data": {
      "image/png": "[encoded data removed]",
      "text/plain": [
       "<Figure size 432x288 with 1 Axes>"
      ]
     },
     "metadata": {
      "needs_background": "light"
     },
     "output_type": "display_data"
    }
   ],
   "source": [
    "# TODO\n",
    "#   W = ...\n",
    "#   plt.stem(...)\n",
    "W = logreg.coef_\n",
    "W = W.ravel()\n",
    "plt.stem(W,use_line_collection=True)"
   ]
  },
  {
   "cell_type": "markdown",
   "metadata": {},
   "source": [
    "You should see that `W[i]` is very large for a few components `i`.  These are the genes that are likely to be most involved in Down's Syndrome.   Below we will use L1 regression to enforce sparsity.  Find the names of the genes for two components `i` where the magnitude of `W[i]` is largest.  "
   ]
  },
  {
   "cell_type": "code",
   "execution_count": 37,
   "metadata": {},
   "outputs": [
    {
     "name": "stdout",
     "output_type": "stream",
     "text": [
      "The two most significant genes are ITSN1_N and BRAF_N\n"
     ]
    }
   ],
   "source": [
    "# TODO\n",
    "ind=np.argsort(np.abs(W))\n",
    "i1=ind[-1]#first largest element\n",
    "i2=ind[-2] #second largest element\n",
    "nam1=xnames[i1]\n",
    "nam2=xnames[i2]\n",
    "print('The two most significant genes are {0:s} and {1:s}'.format(nam1, nam2))"
   ]
  },
  {
   "cell_type": "markdown",
   "metadata": {},
   "source": [
    "## Cross Validation\n",
    "\n",
    "To obtain a slightly more accurate result, now perform 10-fold cross validation and measure the average precision, recall and f1-score.  Note, that in performing the cross-validation, you will want to randomly permute the test and training sets using the `shuffle` option.  In this data set, all the samples from each class are bunched together, so shuffling is essential.  Print the mean precision, recall and f1-score and error rate across all the folds."
   ]
  },
  {
   "cell_type": "code",
   "execution_count": 38,
   "metadata": {},
   "outputs": [
    {
     "name": "stdout",
     "output_type": "stream",
     "text": [
      "The mean precision = 0.9534864560037952\n",
      "The mean f1 score = 0.9533460704876922\n",
      "The mean error rate = 0.04351851851851852\n",
      "The mean recall = 0.9545682096898178\n",
      "The mean accuracy = 0.9564814814814815\n"
     ]
    }
   ],
   "source": [
    "from sklearn.model_selection import KFold\n",
    "from sklearn.metrics import precision_recall_fscore_support\n",
    "nfold = 10\n",
    "kf = KFold(n_splits=nfold,shuffle=True)\n",
    "\n",
    "# TODO\n",
    "precision=[]\n",
    "f1_score =[]\n",
    "error_rate=[]\n",
    "recall=[]\n",
    "acc = []\n",
    "x=np.array(X)\n",
    "\n",
    "for tr,ts in kf.split(X):\n",
    "    Xtr=x[tr,:]\n",
    "    ytr=y[tr]\n",
    "    Xts=x[ts,:]\n",
    "    yts=y[ts]\n",
    "    \n",
    "    \n",
    "    scal = StandardScaler()\n",
    "    Xtr1 = scal.fit_transform(Xtr)\n",
    "    Xts1 = scal.transform(Xts) \n",
    "    logreg.fit(Xtr,ytr)\n",
    "    \n",
    "    \n",
    "    \n",
    "    yhat=logreg.predict(Xts)\n",
    "    p,r,f,s=precision_recall_fscore_support(yts,yhat,average='binary')\n",
    "    \n",
    "    precision.append( p)\n",
    "    recall.append(r)\n",
    "    f1_score.append(f)\n",
    "    \n",
    "    error_rate.append(np.mean(yts != yhat))\n",
    "    acc.append(np.mean(yhat == yts))\n",
    "    \n",
    "mean_precision=np.mean(precision)\n",
    "mean_f1_score=np.mean(f1_score)\n",
    "mean_error_rate=np.mean(error_rate)\n",
    "mean_recall=np.mean(recall)\n",
    "mean_acc = np.mean(acc)\n",
    "\n",
    "print('The mean precision =',mean_precision)\n",
    "print('The mean f1 score =',mean_f1_score) \n",
    "print('The mean error rate =',mean_error_rate)\n",
    "print('The mean recall =',mean_recall)\n",
    "print('The mean accuracy =',mean_acc )\n",
    "#compare between the accuracy after using cross validation\n",
    "if mean_acc> score:\n",
    "    print(\"10-fold cross validation gives more accurate result \")\n",
    "\n",
    "\n",
    "\n",
    "\n",
    "# TODO"
   ]
  },
  {
   "cell_type": "markdown",
   "metadata": {},
   "source": [
    "## Multi-Class Classification\n",
    "\n",
    "Now use the response variable in `df1['class']`.  This has 8 possible classes.  Use the `np.unique` funtion as before to convert this to a vector `y` with values 0 to 7."
   ]
  },
  {
   "cell_type": "code",
   "execution_count": 39,
   "metadata": {},
   "outputs": [
    {
     "data": {
      "text/plain": [
       "array([0, 0, 0, ..., 7, 7, 7], dtype=int64)"
      ]
     },
     "execution_count": 39,
     "metadata": {},
     "output_type": "execute_result"
    }
   ],
   "source": [
    "# TODO\n",
    "#   y = ...\n",
    "y=df1['class'].values\n",
    "u,ymulti=np.unique(y,return_inverse=True)\n",
    "ymulti"
   ]
  },
  {
   "cell_type": "code",
   "execution_count": 42,
   "metadata": {},
   "outputs": [
    {
     "name": "stdout",
     "output_type": "stream",
     "text": [
      "The multiclass accuracy is:  0.9753086419753086\n"
     ]
    }
   ],
   "source": [
    "Xtr, Xts, ytr, yts =  train_test_split(X, ymulti, test_size=0.3, random_state=1,shuffle=True)\n",
    "from sklearn.preprocessing import StandardScaler\n",
    "\n",
    "\n",
    "#  Xtr1 = ...\n",
    "Xtr1=preprocessing.scale(Xtr)\n",
    "Xtr1.mean(axis=0)\n",
    "Xtr1.std(axis=0)\n",
    "Xtr1\n",
    "#  Xts1 = ...\n",
    "Xts1=preprocessing.scale(Xts)\n",
    "Xts1.mean(axis=0)\n",
    "Xts1.std(axis=0)\n",
    "Xts1\n",
    "logreg = linear_model.LogisticRegression(C=1,solver='liblinear',multi_class='auto')\n",
    "logreg.fit(Xtr1,ytr)\n",
    "yhat = logreg.predict(Xts1)\n",
    "acc = np.mean(yhat == yts) \n",
    "W = logreg.coef_\n",
    "print('The multiclass accuracy is: ',acc)\n"
   ]
  },
  {
   "cell_type": "code",
   "execution_count": 43,
   "metadata": {},
   "outputs": [
    {
     "name": "stdout",
     "output_type": "stream",
     "text": [
      "[[0.96   0.0148 0.0067 0.     0.0222 0.     0.     0.    ]\n",
      " [0.0067 0.9778 0.     0.     0.0074 0.0095 0.     0.    ]\n",
      " [0.     0.     1.     0.     0.     0.     0.     0.    ]\n",
      " [0.0133 0.     0.     0.9852 0.     0.     0.     0.    ]\n",
      " [0.0067 0.0148 0.     0.     0.9778 0.     0.     0.    ]\n",
      " [0.     0.     0.     0.     0.     1.     0.     0.    ]\n",
      " [0.     0.     0.0067 0.0074 0.     0.     0.9852 0.    ]\n",
      " [0.     0.     0.     0.     0.     0.     0.     1.    ]]\n",
      "The mean and std error of the test accuracy = 0.9851851851851852 and 0.013857990321384961\n"
     ]
    }
   ],
   "source": [
    "from sklearn.metrics import confusion_matrix\n",
    "from sklearn.model_selection import KFold\n",
    "\n",
    "# TOD\n",
    "acc = []\n",
    "precd = []\n",
    "rec = [] \n",
    "f1 = [] \n",
    "kf = KFold(n_splits=10,shuffle=True)\n",
    "Cf = np.zeros((8,8))\n",
    "x=np.array(X)\n",
    "\n",
    "for tr,ts in kf.split(X):\n",
    "    Xtr = x[tr,:]\n",
    "    ytr = y[tr]\n",
    "    Xts = x[ts,:]\n",
    "    yts = y[ts]\n",
    "    \n",
    "    scal = StandardScaler()\n",
    "    Xtr1 = scal.fit_transform(Xtr)\n",
    "    Xts1 = scal.transform(Xts) \n",
    "   \n",
    "    logreg.fit(Xtr1,ytr)\n",
    "    yhat = logreg.predict(Xts1)\n",
    "    \n",
    "    acc.append(np.mean(yhat == yts))\n",
    "    \n",
    "    p, r, f, s = precision_recall_fscore_support(yts,yhat)\n",
    "    \n",
    "    f1.append(f)\n",
    "    precd.append(p)\n",
    "    rec.append(r)\n",
    "    Cf = Cf + confusion_matrix(yts,yhat)\n",
    "    \n",
    "mean_f1 = np.mean(f1)\n",
    "mean_acc = np.mean(acc)   \n",
    "mean_prec = np.mean(precd)\n",
    "mean_rec = np.mean(rec)\n",
    "sd_acc = np.std(acc)\n",
    "Cf = Cf/Cf.sum(axis=1)\n",
    "\n",
    "print(np.array_str(Cf, precision=4, suppress_small=True))\n",
    "print('The mean and std error of the test accuracy =',mean_acc ,\"and\" ,sd_acc)\n"
   ]
  },
  {
   "cell_type": "markdown",
   "metadata": {},
   "source": [
    "Fit a multi-class logistic model by creating a `LogisticRegression` object, `logreg` and then calling the `logreg.fit` method."
   ]
  },
  {
   "cell_type": "markdown",
   "metadata": {},
   "source": [
    "Now perform 10-fold cross validation, and measure the confusion matrix `C` on the test data in each fold. You can use the `confustion_matrix` method in the `sklearn` package.  Add the confusion matrix counts across all folds and then normalize the rows of the confusion matrix so that they sum to one.  Thus, each element `C[i,j]` will represent the fraction of samples where `yhat==j` given `ytrue==i`.  Print the confusion matrix.  You can use the command\n",
    "\n",
    "    print(np.array_str(C, precision=4, suppress_small=True))\n",
    "    \n",
    "to create a nicely formatted print.  Also print the overall mean and SE of the test accuracy across the folds."
   ]
  },
  {
   "cell_type": "code",
   "execution_count": 44,
   "metadata": {},
   "outputs": [
    {
     "data": {
      "image/png": "[encoded data removed]",
      "text/plain": [
       "<Figure size 432x288 with 2 Axes>"
      ]
     },
     "metadata": {
      "needs_background": "light"
     },
     "output_type": "display_data"
    }
   ],
   "source": [
    "import seaborn as sn\n",
    "fig= sn.heatmap(Cf,annot=True,cmap=\"Blues\")\n",
    "fig.set_xlabel(\" predicted\")\n",
    "fig.set_ylabel(\" actual\")\n",
    "fig.set_title(\"confusion matrix\")\n",
    "plt.show()\n",
    "# TODO"
   ]
  },
  {
   "cell_type": "markdown",
   "metadata": {},
   "source": [
    "Re-run the logistic regression on the entire training data and get the weight coefficients.  This should be a 8 x 77 matrix.  Create a stem plot of the first row of this matrix to see the coefficients on each of the genes."
   ]
  },
  {
   "cell_type": "code",
   "execution_count": 45,
   "metadata": {},
   "outputs": [
    {
     "name": "stderr",
     "output_type": "stream",
     "text": [
      "C:\\Users\\Dell\\anaconda3\\lib\\site-packages\\sklearn\\linear_model\\_logistic.py:940: ConvergenceWarning: lbfgs failed to converge (status=1):\n",
      "STOP: TOTAL NO. of ITERATIONS REACHED LIMIT.\n",
      "\n",
      "Increase the number of iterations (max_iter) or scale the data as shown in:\n",
      "    https://scikit-learn.org/stable/modules/preprocessing.html\n",
      "Please also refer to the documentation for alternative solver options:\n",
      "    https://scikit-learn.org/stable/modules/linear_model.html#logistic-regression\n",
      "  extra_warning_msg=_LOGISTIC_SOLVER_CONVERGENCE_MSG)\n",
      "C:\\Users\\Dell\\anaconda3\\lib\\site-packages\\ipykernel_launcher.py:5: UserWarning: In Matplotlib 3.3 individual lines on a stem plot will be added as a LineCollection instead of individual lines. This significantly improves the performance of a stem plot. To remove this warning and switch to the new behaviour, set the \"use_line_collection\" keyword argument to True.\n",
      "  \"\"\"\n"
     ]
    },
    {
     "data": {
      "text/plain": [
       "Text(0, 0.5, 'weight coefficients')"
      ]
     },
     "execution_count": 45,
     "metadata": {},
     "output_type": "execute_result"
    },
    {
     "data": {
      "image/png": "[encoded data removed]",
      "text/plain": [
       "<Figure size 2160x576 with 1 Axes>"
      ]
     },
     "metadata": {
      "needs_background": "light"
     },
     "output_type": "display_data"
    }
   ],
   "source": [
    "logreg = linear_model.LogisticRegression()\n",
    "logreg.fit(X,y)\n",
    "\n",
    "plt.figure(figsize=(30,8))\n",
    "plt.stem(W[0,:])\n",
    "plt.ylabel('weight coefficients')"
   ]
  },
  {
   "cell_type": "markdown",
   "metadata": {
    "collapsed": true
   },
   "source": [
    "## L1-Regularization\n",
    "\n",
    "This section is bonus.\n",
    "\n",
    "In most genetic problems, only a limited number of the tested genes are likely influence any particular attribute.  Hence, we would expect that the weight coefficients in the logistic regression model should be sparse.  That is, they should be zero on any gene that plays no role in the particular attribute of interest.  Genetic analysis commonly imposes sparsity by adding an l1-penalty term.  Read the `sklearn` [documentation](http://scikit-learn.org/stable/modules/generated/sklearn.linear_model.LogisticRegression.html) on the `LogisticRegression` class to see how to set the l1-penalty and the inverse regularization strength, `C`.\n",
    "\n",
    "Using the model selection strategies from the [housing demo](../unit05_lasso/demo2_housing.ipynb), use K-fold cross validation to select an appropriate inverse regularization strength.  \n",
    "* Use 10-fold cross validation \n",
    "* You should select around 20 values of `C`.  It is up to you find a good range.\n",
    "* Make appropriate plots and print out to display your results\n",
    "* How does the accuracy compare to the accuracy achieved without regularization."
   ]
  },
  {
   "cell_type": "code",
   "execution_count": 20,
   "metadata": {},
   "outputs": [],
   "source": [
    "# TODO"
   ]
  },
  {
   "cell_type": "code",
   "execution_count": 47,
   "metadata": {},
   "outputs": [
    {
     "name": "stdout",
     "output_type": "stream",
     "text": [
      "std_error [0.01645962 0.01861088 0.00769132 0.00873517 0.01296296 0.00833333\n",
      " 0.01031067 0.00648148 0.00807204 0.00648148 0.006929   0.00925926\n",
      " 0.00498626 0.00717219 0.00807204 0.0105165  0.00997253 0.00769132\n",
      " 0.00925926 0.00997253]\n"
     ]
    }
   ],
   "source": [
    "kf = KFold(n_splits=10,shuffle=True)\n",
    "nf=10\n",
    "C = np.logspace(-1,2,20)\n",
    "nz = np.zeros((20,nf))\n",
    "er = np.zeros((20,nf))\n",
    "\n",
    "x=np.array(X)\n",
    "\n",
    "for i,k in enumerate(C): \n",
    "    j=0\n",
    "    for tr,ts in kf.split(X):\n",
    "        Xtr = x[tr,:] \n",
    "        ytr = y[tr]\n",
    "        Xts = x[ts,:]\n",
    "        yts = y[ts] \n",
    "\n",
    "        logreg = linear_model.LogisticRegression(penalty='l1',C=k,solver='liblinear',multi_class='auto')\n",
    "        scal = StandardScaler()\n",
    "        Xtr1 = scal.fit_transform(Xtr)\n",
    "        Xts1 = scal.transform(Xts) \n",
    "   \n",
    "        logreg.fit(Xtr1,ytr)\n",
    "        yhat = logreg.predict(Xts1)\n",
    "\n",
    "        er[i,j] = np.mean(yhat != yts)\n",
    "        nz[i,j] = np.sum(logreg.coef_[0,:] > 0.01)\n",
    "        j=j+1\n",
    "mean_error = np.mean(er,axis=1)\n",
    "std_error = np.std(er,axis=1)\n",
    "print(\"std_error\",std_error)\n"
   ]
  },
  {
   "cell_type": "code",
   "execution_count": 48,
   "metadata": {},
   "outputs": [
    {
     "data": {
      "text/plain": [
       "<function matplotlib.pyplot.show(*args, **kw)>"
      ]
     },
     "execution_count": 48,
     "metadata": {},
     "output_type": "execute_result"
    },
    {
     "data": {
      "image/png": "[encoded data removed]",
      "text/plain": [
       "<Figure size 720x360 with 1 Axes>"
      ]
     },
     "metadata": {
      "needs_background": "light"
     },
     "output_type": "display_data"
    }
   ],
   "source": [
    "plt.figure(figsize=(10,5))\n",
    "plt.errorbar(C,mean_error,std_error)\n",
    "plt.xlabel('Inverse Regularization Strength C')\n",
    "plt.ylabel('Error Rate')\n",
    "plt.show\n"
   ]
  },
  {
   "cell_type": "code",
   "execution_count": 49,
   "metadata": {},
   "outputs": [
    {
     "name": "stdout",
     "output_type": "stream",
     "text": [
      "The min error = 0.007407407407407407 and C= 1.8329807108324356\n"
     ]
    }
   ],
   "source": [
    "C_min = C[np.argmin(mean_error)]\n",
    "min_error = np.min(mean_error)\n",
    "print('The min error =',min_error, \"and C=\",C_min)"
   ]
  },
  {
   "cell_type": "code",
   "execution_count": 50,
   "metadata": {},
   "outputs": [
    {
     "name": "stdout",
     "output_type": "stream",
     "text": [
      " optimal C = 0.6158482110660264\n"
     ]
    }
   ],
   "source": [
    "min = np.argmin(mean_error) \n",
    "for i in range(min):\n",
    "    if mean_error[i]<=mean_error[min]+std_error[min]: \n",
    "        C_optimal = C[i]\n",
    "        break\n",
    "print(' optimal C =',C_optimal)"
   ]
  },
  {
   "cell_type": "code",
   "execution_count": 51,
   "metadata": {},
   "outputs": [
    {
     "name": "stdout",
     "output_type": "stream",
     "text": [
      " number of Non Zero Coefficients for optimal C = 20.5\n"
     ]
    },
    {
     "data": {
      "image/png": "[encoded data removed]",
      "text/plain": [
       "<Figure size 720x360 with 1 Axes>"
      ]
     },
     "metadata": {
      "needs_background": "light"
     },
     "output_type": "display_data"
    }
   ],
   "source": [
    "mean_nz= np.mean(nz,axis = 1) \n",
    "plt.figure(figsize=(10,5)) \n",
    "plt.plot(C,mean_nz, 'g-') \n",
    "plt.xlabel('Inverse Regularization Strength C')\n",
    "plt.ylabel('Number of Non Zero Coefficients')\n",
    "print(' number of Non Zero Coefficients for optimal C =',mean_nz[min])"
   ]
  },
  {
   "cell_type": "code",
   "execution_count": 54,
   "metadata": {},
   "outputs": [
    {
     "name": "stdout",
     "output_type": "stream",
     "text": [
      "(8, 77)\n",
      "Accuracy of training data(for Optimal C)=  0.9166666666666666\n",
      " The accuracy is improved using l1.\n"
     ]
    },
    {
     "name": "stderr",
     "output_type": "stream",
     "text": [
      "C:\\Users\\Dell\\anaconda3\\lib\\site-packages\\ipykernel_launcher.py:7: UserWarning: In Matplotlib 3.3 individual lines on a stem plot will be added as a LineCollection instead of individual lines. This significantly improves the performance of a stem plot. To remove this warning and switch to the new behaviour, set the \"use_line_collection\" keyword argument to True.\n",
      "  import sys\n"
     ]
    },
    {
     "data": {
      "image/png": "[encoded data removed]",
      "text/plain": [
       "<Figure size 720x360 with 1 Axes>"
      ]
     },
     "metadata": {
      "needs_background": "light"
     },
     "output_type": "display_data"
    }
   ],
   "source": [
    "logreg = linear_model.LogisticRegression(C = C_optimal,solver= 'liblinear',penalty='l1',warm_start=True) \n",
    "logreg.fit(X,y)\n",
    "yhat= logreg.predict(X)\n",
    "W_l1 = logreg.coef_\n",
    "print(W_l1.shape)\n",
    "plt.figure(figsize=(10,5))\n",
    "plt.stem(W_l1[0])\n",
    "plt.xlabel(\"index of W_L1\")\n",
    "plt.ylabel(' coefficients')\n",
    "plt.title(\"first class\")\n",
    "\n",
    "Accuracy= np.mean(y==yhat)\n",
    "print(\"Accuracy of training data(for Optimal C)= \",Accuracy)\n",
    "print(' The accuracy is improved using l1.')"
   ]
  },
  {
   "cell_type": "code",
   "execution_count": 56,
   "metadata": {},
   "outputs": [
    {
     "name": "stdout",
     "output_type": "stream",
     "text": [
      "(8, 77)\n"
     ]
    },
    {
     "name": "stderr",
     "output_type": "stream",
     "text": [
      "C:\\Users\\Dell\\anaconda3\\lib\\site-packages\\ipykernel_launcher.py:8: UserWarning: In Matplotlib 3.3 individual lines on a stem plot will be added as a LineCollection instead of individual lines. This significantly improves the performance of a stem plot. To remove this warning and switch to the new behaviour, set the \"use_line_collection\" keyword argument to True.\n",
      "  \n"
     ]
    },
    {
     "name": "stdout",
     "output_type": "stream",
     "text": [
      "Accuracy of training data at Optimal C  0.9157407407407407\n"
     ]
    },
    {
     "data": {
      "image/png": "[encoded data removed]",
      "text/plain": [
       "<Figure size 720x360 with 1 Axes>"
      ]
     },
     "metadata": {
      "needs_background": "light"
     },
     "output_type": "display_data"
    }
   ],
   "source": [
    "logreg = linear_model.LogisticRegression(C = C_optimal,solver= 'liblinear',penalty='l1',warm_start=True) \n",
    "\n",
    "logreg.fit(X,y)\n",
    "yhat= logreg.predict(X)\n",
    "W_l1 = logreg.coef_\n",
    "print(W_l1.shape)\n",
    "plt.figure(figsize=(10,5))\n",
    "plt.stem(W_l1[0])\n",
    "plt.xlabel(\"index of W_L1\")\n",
    "plt.ylabel(' coefficients')\n",
    "\n",
    "\n",
    "Accuracy= np.mean(y==yhat)\n",
    "print(\"Accuracy of training data at Optimal C \",Accuracy)\n",
    "if Accuracy> score:\n",
    "    print(' The accuracy is improved using l1.')"
   ]
  },
  {
   "cell_type": "code",
   "execution_count": null,
   "metadata": {},
   "outputs": [],
   "source": []
  }
 ],
 "metadata": {
  "anaconda-cloud": {},
  "kernelspec": {
   "display_name": "Python 3",
   "language": "python",
   "name": "python3"
  },
  "language_info": {
   "codemirror_mode": {
    "name": "ipython",
    "version": 3
   },
   "file_extension": ".py",
   "mimetype": "text/x-python",
   "name": "python",
   "nbconvert_exporter": "python",
   "pygments_lexer": "ipython3",
   "version": "3.7.6"
  }
 },
 "nbformat": 4,
 "nbformat_minor": 1
}
